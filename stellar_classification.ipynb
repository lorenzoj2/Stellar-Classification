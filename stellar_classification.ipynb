{
 "cells": [
  {
   "cell_type": "markdown",
   "id": "eb453d28",
   "metadata": {},
   "source": [
    "# Stellar Classification"
   ]
  },
  {
   "cell_type": "markdown",
   "id": "94858860",
   "metadata": {},
   "source": [
    "### Import Packages"
   ]
  },
  {
   "cell_type": "code",
   "execution_count": 1,
   "id": "0b83181d",
   "metadata": {},
   "outputs": [],
   "source": [
    "import pandas as pd\n",
    "from sklearn.model_selection import train_test_split\n",
    "from sklearn.preprocessing import StandardScaler\n",
    "from sklearn.linear_model import LogisticRegression\n",
    "from sklearn import metrics\n",
    "import seaborn as sn\n",
    "import matplotlib.pyplot as plt"
   ]
  },
  {
   "cell_type": "markdown",
   "id": "9e055403",
   "metadata": {},
   "source": [
    "### Read data and check data types"
   ]
  },
  {
   "cell_type": "code",
   "execution_count": 2,
   "id": "9164c66f",
   "metadata": {},
   "outputs": [],
   "source": [
    "df = pd.read_csv('stellar_data.csv')"
   ]
  },
  {
   "cell_type": "code",
   "execution_count": 3,
   "id": "b82bb01a",
   "metadata": {},
   "outputs": [
    {
     "data": {
      "text/plain": [
       "obj_ID         float64\n",
       "alpha          float64\n",
       "delta          float64\n",
       "u              float64\n",
       "g              float64\n",
       "r              float64\n",
       "i              float64\n",
       "z              float64\n",
       "run_ID           int64\n",
       "rerun_ID         int64\n",
       "cam_col          int64\n",
       "field_ID         int64\n",
       "spec_obj_ID    float64\n",
       "class           object\n",
       "redshift       float64\n",
       "plate            int64\n",
       "MJD              int64\n",
       "fiber_ID         int64\n",
       "dtype: object"
      ]
     },
     "execution_count": 3,
     "metadata": {},
     "output_type": "execute_result"
    }
   ],
   "source": [
    "df.dtypes"
   ]
  },
  {
   "cell_type": "markdown",
   "id": "d161c4c6",
   "metadata": {},
   "source": [
    "### Check for null values"
   ]
  },
  {
   "cell_type": "code",
   "execution_count": 4,
   "id": "a8d84fec",
   "metadata": {},
   "outputs": [
    {
     "data": {
      "text/plain": [
       "False"
      ]
     },
     "execution_count": 4,
     "metadata": {},
     "output_type": "execute_result"
    }
   ],
   "source": [
    "df.isnull().values.any()"
   ]
  },
  {
   "cell_type": "markdown",
   "id": "c879d399",
   "metadata": {},
   "source": [
    "### Separate target variable from the rest of the data"
   ]
  },
  {
   "cell_type": "code",
   "execution_count": 5,
   "id": "472da4f2",
   "metadata": {},
   "outputs": [],
   "source": [
    "target = df['class'].copy()\n",
    "data = df.drop(columns=['class']).copy()"
   ]
  },
  {
   "cell_type": "code",
   "execution_count": 6,
   "id": "b32a3f10",
   "metadata": {},
   "outputs": [
    {
     "data": {
      "text/plain": [
       "GALAXY    59445\n",
       "STAR      21594\n",
       "QSO       18961\n",
       "Name: class, dtype: int64"
      ]
     },
     "execution_count": 6,
     "metadata": {},
     "output_type": "execute_result"
    }
   ],
   "source": [
    "target.value_counts()"
   ]
  },
  {
   "cell_type": "markdown",
   "id": "33b60baa",
   "metadata": {},
   "source": [
    "### Separate data into training and testing set"
   ]
  },
  {
   "cell_type": "code",
   "execution_count": 7,
   "id": "39092810",
   "metadata": {},
   "outputs": [],
   "source": [
    "x_train, x_test, y_train, y_test = train_test_split(data, target, test_size=0.3)"
   ]
  },
  {
   "cell_type": "markdown",
   "id": "5459bff6",
   "metadata": {},
   "source": [
    "### Feature Scaling"
   ]
  },
  {
   "cell_type": "code",
   "execution_count": 8,
   "id": "5ec3512e",
   "metadata": {},
   "outputs": [],
   "source": [
    "scaler = StandardScaler()\n",
    "x_train = scaler.fit_transform(x_train)\n",
    "x_test = scaler.transform(x_test)"
   ]
  },
  {
   "cell_type": "markdown",
   "id": "16fc6c47",
   "metadata": {},
   "source": [
    "### Fit logistic regression model to training set"
   ]
  },
  {
   "cell_type": "code",
   "execution_count": 9,
   "id": "c8ea05a4",
   "metadata": {},
   "outputs": [
    {
     "data": {
      "text/plain": [
       "LogisticRegression(max_iter=1000, random_state=0)"
      ]
     },
     "execution_count": 9,
     "metadata": {},
     "output_type": "execute_result"
    }
   ],
   "source": [
    "classifier = LogisticRegression(max_iter=1000, random_state=0)\n",
    "classifier.fit(x_train, y_train)"
   ]
  },
  {
   "cell_type": "markdown",
   "id": "444811f0",
   "metadata": {},
   "source": [
    "### Predict the test result"
   ]
  },
  {
   "cell_type": "code",
   "execution_count": 10,
   "id": "afc221c7",
   "metadata": {},
   "outputs": [],
   "source": [
    "y_pred = classifier.predict(x_test)"
   ]
  },
  {
   "cell_type": "markdown",
   "id": "c3f3888f",
   "metadata": {},
   "source": [
    "### Create the confusion matrix"
   ]
  },
  {
   "cell_type": "code",
   "execution_count": 11,
   "id": "ebc10a62",
   "metadata": {},
   "outputs": [
    {
     "data": {
      "text/html": [
       "<div>\n",
       "<style scoped>\n",
       "    .dataframe tbody tr th:only-of-type {\n",
       "        vertical-align: middle;\n",
       "    }\n",
       "\n",
       "    .dataframe tbody tr th {\n",
       "        vertical-align: top;\n",
       "    }\n",
       "\n",
       "    .dataframe thead th {\n",
       "        text-align: right;\n",
       "    }\n",
       "</style>\n",
       "<table border=\"1\" class=\"dataframe\">\n",
       "  <thead>\n",
       "    <tr style=\"text-align: right;\">\n",
       "      <th>Predicted</th>\n",
       "      <th>GALAXY</th>\n",
       "      <th>QSO</th>\n",
       "      <th>STAR</th>\n",
       "    </tr>\n",
       "    <tr>\n",
       "      <th>Actual</th>\n",
       "      <th></th>\n",
       "      <th></th>\n",
       "      <th></th>\n",
       "    </tr>\n",
       "  </thead>\n",
       "  <tbody>\n",
       "    <tr>\n",
       "      <th>GALAXY</th>\n",
       "      <td>17300</td>\n",
       "      <td>258</td>\n",
       "      <td>352</td>\n",
       "    </tr>\n",
       "    <tr>\n",
       "      <th>QSO</th>\n",
       "      <td>709</td>\n",
       "      <td>4886</td>\n",
       "      <td>4</td>\n",
       "    </tr>\n",
       "    <tr>\n",
       "      <th>STAR</th>\n",
       "      <td>0</td>\n",
       "      <td>10</td>\n",
       "      <td>6481</td>\n",
       "    </tr>\n",
       "  </tbody>\n",
       "</table>\n",
       "</div>"
      ],
      "text/plain": [
       "Predicted  GALAXY   QSO  STAR\n",
       "Actual                       \n",
       "GALAXY      17300   258   352\n",
       "QSO           709  4886     4\n",
       "STAR            0    10  6481"
      ]
     },
     "execution_count": 11,
     "metadata": {},
     "output_type": "execute_result"
    }
   ],
   "source": [
    "confusion_matrix = pd.crosstab(y_test, y_pred, rownames=['Actual'], colnames=['Predicted'])\n",
    "confusion_matrix"
   ]
  },
  {
   "cell_type": "markdown",
   "id": "4900b663",
   "metadata": {},
   "source": [
    "### Calculate evaluation metrics"
   ]
  },
  {
   "cell_type": "code",
   "execution_count": 12,
   "id": "6674bdbf",
   "metadata": {},
   "outputs": [
    {
     "data": {
      "text/plain": [
       "0.9555666666666667"
      ]
     },
     "execution_count": 12,
     "metadata": {},
     "output_type": "execute_result"
    }
   ],
   "source": [
    "metrics.accuracy_score(y_test, y_pred)"
   ]
  },
  {
   "cell_type": "code",
   "execution_count": 13,
   "id": "38f9df0f",
   "metadata": {},
   "outputs": [
    {
     "data": {
      "text/html": [
       "<div>\n",
       "<style scoped>\n",
       "    .dataframe tbody tr th:only-of-type {\n",
       "        vertical-align: middle;\n",
       "    }\n",
       "\n",
       "    .dataframe tbody tr th {\n",
       "        vertical-align: top;\n",
       "    }\n",
       "\n",
       "    .dataframe thead th {\n",
       "        text-align: right;\n",
       "    }\n",
       "</style>\n",
       "<table border=\"1\" class=\"dataframe\">\n",
       "  <thead>\n",
       "    <tr style=\"text-align: right;\">\n",
       "      <th></th>\n",
       "      <th>precision</th>\n",
       "      <th>recall</th>\n",
       "      <th>f1-score</th>\n",
       "      <th>support</th>\n",
       "    </tr>\n",
       "  </thead>\n",
       "  <tbody>\n",
       "    <tr>\n",
       "      <th>GALAXY</th>\n",
       "      <td>0.960631</td>\n",
       "      <td>0.965941</td>\n",
       "      <td>0.963278</td>\n",
       "      <td>17910.000000</td>\n",
       "    </tr>\n",
       "    <tr>\n",
       "      <th>QSO</th>\n",
       "      <td>0.948002</td>\n",
       "      <td>0.872656</td>\n",
       "      <td>0.908770</td>\n",
       "      <td>5599.000000</td>\n",
       "    </tr>\n",
       "    <tr>\n",
       "      <th>STAR</th>\n",
       "      <td>0.947930</td>\n",
       "      <td>0.998459</td>\n",
       "      <td>0.972539</td>\n",
       "      <td>6491.000000</td>\n",
       "    </tr>\n",
       "    <tr>\n",
       "      <th>accuracy</th>\n",
       "      <td>0.955567</td>\n",
       "      <td>0.955567</td>\n",
       "      <td>0.955567</td>\n",
       "      <td>0.955567</td>\n",
       "    </tr>\n",
       "    <tr>\n",
       "      <th>macro avg</th>\n",
       "      <td>0.952188</td>\n",
       "      <td>0.945685</td>\n",
       "      <td>0.948196</td>\n",
       "      <td>30000.000000</td>\n",
       "    </tr>\n",
       "    <tr>\n",
       "      <th>weighted avg</th>\n",
       "      <td>0.955526</td>\n",
       "      <td>0.955567</td>\n",
       "      <td>0.955109</td>\n",
       "      <td>30000.000000</td>\n",
       "    </tr>\n",
       "  </tbody>\n",
       "</table>\n",
       "</div>"
      ],
      "text/plain": [
       "              precision    recall  f1-score       support\n",
       "GALAXY         0.960631  0.965941  0.963278  17910.000000\n",
       "QSO            0.948002  0.872656  0.908770   5599.000000\n",
       "STAR           0.947930  0.998459  0.972539   6491.000000\n",
       "accuracy       0.955567  0.955567  0.955567      0.955567\n",
       "macro avg      0.952188  0.945685  0.948196  30000.000000\n",
       "weighted avg   0.955526  0.955567  0.955109  30000.000000"
      ]
     },
     "execution_count": 13,
     "metadata": {},
     "output_type": "execute_result"
    }
   ],
   "source": [
    "report = metrics.classification_report(y_test, y_pred, digits=3, output_dict=True)\n",
    "report = pd.DataFrame(report).transpose()\n",
    "report"
   ]
  }
 ],
 "metadata": {
  "kernelspec": {
   "display_name": "Python 3 (ipykernel)",
   "language": "python",
   "name": "python3"
  },
  "language_info": {
   "codemirror_mode": {
    "name": "ipython",
    "version": 3
   },
   "file_extension": ".py",
   "mimetype": "text/x-python",
   "name": "python",
   "nbconvert_exporter": "python",
   "pygments_lexer": "ipython3",
   "version": "3.8.12"
  }
 },
 "nbformat": 4,
 "nbformat_minor": 5
}
